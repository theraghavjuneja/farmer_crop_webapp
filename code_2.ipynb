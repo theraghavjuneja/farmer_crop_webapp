{
 "cells": [
  {
   "cell_type": "code",
   "execution_count": 1,
   "metadata": {},
   "outputs": [
    {
     "name": "stderr",
     "output_type": "stream",
     "text": [
      "c:\\Users\\Charanjeet Juneja\\AppData\\Local\\Programs\\Python\\Python311\\Lib\\site-packages\\keras\\src\\layers\\convolutional\\base_conv.py:99: UserWarning: Do not pass an `input_shape`/`input_dim` argument to a layer. When using Sequential models, prefer using an `Input(shape)` object as the first layer in the model instead.\n",
      "  super().__init__(\n",
      "WARNING:absl:Compiled the loaded model, but the compiled metrics have yet to be built. `model.compile_metrics` will be empty until you train or evaluate the model.\n",
      "WARNING:absl:Error in loading the saved optimizer state. As a result, your model is starting with a freshly initialized optimizer.\n"
     ]
    },
    {
     "data": {
      "text/html": [
       "<pre style=\"white-space:pre;overflow-x:auto;line-height:normal;font-family:Menlo,'DejaVu Sans Mono',consolas,'Courier New',monospace\"><span style=\"font-weight: bold\">Model: \"sequential\"</span>\n",
       "</pre>\n"
      ],
      "text/plain": [
       "\u001b[1mModel: \"sequential\"\u001b[0m\n"
      ]
     },
     "metadata": {},
     "output_type": "display_data"
    },
    {
     "data": {
      "text/html": [
       "<pre style=\"white-space:pre;overflow-x:auto;line-height:normal;font-family:Menlo,'DejaVu Sans Mono',consolas,'Courier New',monospace\">┏━━━━━━━━━━━━━━━━━━━━━━━━━━━━━━━━━┳━━━━━━━━━━━━━━━━━━━━━━━━┳━━━━━━━━━━━━━━━┓\n",
       "┃<span style=\"font-weight: bold\"> Layer (type)                    </span>┃<span style=\"font-weight: bold\"> Output Shape           </span>┃<span style=\"font-weight: bold\">       Param # </span>┃\n",
       "┡━━━━━━━━━━━━━━━━━━━━━━━━━━━━━━━━━╇━━━━━━━━━━━━━━━━━━━━━━━━╇━━━━━━━━━━━━━━━┩\n",
       "│ conv2d (<span style=\"color: #0087ff; text-decoration-color: #0087ff\">Conv2D</span>)                 │ (<span style=\"color: #00d7ff; text-decoration-color: #00d7ff\">None</span>, <span style=\"color: #00af00; text-decoration-color: #00af00\">148</span>, <span style=\"color: #00af00; text-decoration-color: #00af00\">148</span>, <span style=\"color: #00af00; text-decoration-color: #00af00\">32</span>)   │           <span style=\"color: #00af00; text-decoration-color: #00af00\">896</span> │\n",
       "├─────────────────────────────────┼────────────────────────┼───────────────┤\n",
       "│ max_pooling2d (<span style=\"color: #0087ff; text-decoration-color: #0087ff\">MaxPooling2D</span>)    │ (<span style=\"color: #00d7ff; text-decoration-color: #00d7ff\">None</span>, <span style=\"color: #00af00; text-decoration-color: #00af00\">74</span>, <span style=\"color: #00af00; text-decoration-color: #00af00\">74</span>, <span style=\"color: #00af00; text-decoration-color: #00af00\">32</span>)     │             <span style=\"color: #00af00; text-decoration-color: #00af00\">0</span> │\n",
       "├─────────────────────────────────┼────────────────────────┼───────────────┤\n",
       "│ conv2d_1 (<span style=\"color: #0087ff; text-decoration-color: #0087ff\">Conv2D</span>)               │ (<span style=\"color: #00d7ff; text-decoration-color: #00d7ff\">None</span>, <span style=\"color: #00af00; text-decoration-color: #00af00\">72</span>, <span style=\"color: #00af00; text-decoration-color: #00af00\">72</span>, <span style=\"color: #00af00; text-decoration-color: #00af00\">64</span>)     │        <span style=\"color: #00af00; text-decoration-color: #00af00\">18,496</span> │\n",
       "├─────────────────────────────────┼────────────────────────┼───────────────┤\n",
       "│ max_pooling2d_1 (<span style=\"color: #0087ff; text-decoration-color: #0087ff\">MaxPooling2D</span>)  │ (<span style=\"color: #00d7ff; text-decoration-color: #00d7ff\">None</span>, <span style=\"color: #00af00; text-decoration-color: #00af00\">36</span>, <span style=\"color: #00af00; text-decoration-color: #00af00\">36</span>, <span style=\"color: #00af00; text-decoration-color: #00af00\">64</span>)     │             <span style=\"color: #00af00; text-decoration-color: #00af00\">0</span> │\n",
       "├─────────────────────────────────┼────────────────────────┼───────────────┤\n",
       "│ conv2d_2 (<span style=\"color: #0087ff; text-decoration-color: #0087ff\">Conv2D</span>)               │ (<span style=\"color: #00d7ff; text-decoration-color: #00d7ff\">None</span>, <span style=\"color: #00af00; text-decoration-color: #00af00\">34</span>, <span style=\"color: #00af00; text-decoration-color: #00af00\">34</span>, <span style=\"color: #00af00; text-decoration-color: #00af00\">128</span>)    │        <span style=\"color: #00af00; text-decoration-color: #00af00\">73,856</span> │\n",
       "├─────────────────────────────────┼────────────────────────┼───────────────┤\n",
       "│ max_pooling2d_2 (<span style=\"color: #0087ff; text-decoration-color: #0087ff\">MaxPooling2D</span>)  │ (<span style=\"color: #00d7ff; text-decoration-color: #00d7ff\">None</span>, <span style=\"color: #00af00; text-decoration-color: #00af00\">17</span>, <span style=\"color: #00af00; text-decoration-color: #00af00\">17</span>, <span style=\"color: #00af00; text-decoration-color: #00af00\">128</span>)    │             <span style=\"color: #00af00; text-decoration-color: #00af00\">0</span> │\n",
       "├─────────────────────────────────┼────────────────────────┼───────────────┤\n",
       "│ conv2d_3 (<span style=\"color: #0087ff; text-decoration-color: #0087ff\">Conv2D</span>)               │ (<span style=\"color: #00d7ff; text-decoration-color: #00d7ff\">None</span>, <span style=\"color: #00af00; text-decoration-color: #00af00\">15</span>, <span style=\"color: #00af00; text-decoration-color: #00af00\">15</span>, <span style=\"color: #00af00; text-decoration-color: #00af00\">128</span>)    │       <span style=\"color: #00af00; text-decoration-color: #00af00\">147,584</span> │\n",
       "├─────────────────────────────────┼────────────────────────┼───────────────┤\n",
       "│ max_pooling2d_3 (<span style=\"color: #0087ff; text-decoration-color: #0087ff\">MaxPooling2D</span>)  │ (<span style=\"color: #00d7ff; text-decoration-color: #00d7ff\">None</span>, <span style=\"color: #00af00; text-decoration-color: #00af00\">7</span>, <span style=\"color: #00af00; text-decoration-color: #00af00\">7</span>, <span style=\"color: #00af00; text-decoration-color: #00af00\">128</span>)      │             <span style=\"color: #00af00; text-decoration-color: #00af00\">0</span> │\n",
       "├─────────────────────────────────┼────────────────────────┼───────────────┤\n",
       "│ flatten (<span style=\"color: #0087ff; text-decoration-color: #0087ff\">Flatten</span>)               │ (<span style=\"color: #00d7ff; text-decoration-color: #00d7ff\">None</span>, <span style=\"color: #00af00; text-decoration-color: #00af00\">6272</span>)           │             <span style=\"color: #00af00; text-decoration-color: #00af00\">0</span> │\n",
       "├─────────────────────────────────┼────────────────────────┼───────────────┤\n",
       "│ dense (<span style=\"color: #0087ff; text-decoration-color: #0087ff\">Dense</span>)                   │ (<span style=\"color: #00d7ff; text-decoration-color: #00d7ff\">None</span>, <span style=\"color: #00af00; text-decoration-color: #00af00\">512</span>)            │     <span style=\"color: #00af00; text-decoration-color: #00af00\">3,211,776</span> │\n",
       "├─────────────────────────────────┼────────────────────────┼───────────────┤\n",
       "│ dense_1 (<span style=\"color: #0087ff; text-decoration-color: #0087ff\">Dense</span>)                 │ (<span style=\"color: #00d7ff; text-decoration-color: #00d7ff\">None</span>, <span style=\"color: #00af00; text-decoration-color: #00af00\">38</span>)             │        <span style=\"color: #00af00; text-decoration-color: #00af00\">19,494</span> │\n",
       "└─────────────────────────────────┴────────────────────────┴───────────────┘\n",
       "</pre>\n"
      ],
      "text/plain": [
       "┏━━━━━━━━━━━━━━━━━━━━━━━━━━━━━━━━━┳━━━━━━━━━━━━━━━━━━━━━━━━┳━━━━━━━━━━━━━━━┓\n",
       "┃\u001b[1m \u001b[0m\u001b[1mLayer (type)                   \u001b[0m\u001b[1m \u001b[0m┃\u001b[1m \u001b[0m\u001b[1mOutput Shape          \u001b[0m\u001b[1m \u001b[0m┃\u001b[1m \u001b[0m\u001b[1m      Param #\u001b[0m\u001b[1m \u001b[0m┃\n",
       "┡━━━━━━━━━━━━━━━━━━━━━━━━━━━━━━━━━╇━━━━━━━━━━━━━━━━━━━━━━━━╇━━━━━━━━━━━━━━━┩\n",
       "│ conv2d (\u001b[38;5;33mConv2D\u001b[0m)                 │ (\u001b[38;5;45mNone\u001b[0m, \u001b[38;5;34m148\u001b[0m, \u001b[38;5;34m148\u001b[0m, \u001b[38;5;34m32\u001b[0m)   │           \u001b[38;5;34m896\u001b[0m │\n",
       "├─────────────────────────────────┼────────────────────────┼───────────────┤\n",
       "│ max_pooling2d (\u001b[38;5;33mMaxPooling2D\u001b[0m)    │ (\u001b[38;5;45mNone\u001b[0m, \u001b[38;5;34m74\u001b[0m, \u001b[38;5;34m74\u001b[0m, \u001b[38;5;34m32\u001b[0m)     │             \u001b[38;5;34m0\u001b[0m │\n",
       "├─────────────────────────────────┼────────────────────────┼───────────────┤\n",
       "│ conv2d_1 (\u001b[38;5;33mConv2D\u001b[0m)               │ (\u001b[38;5;45mNone\u001b[0m, \u001b[38;5;34m72\u001b[0m, \u001b[38;5;34m72\u001b[0m, \u001b[38;5;34m64\u001b[0m)     │        \u001b[38;5;34m18,496\u001b[0m │\n",
       "├─────────────────────────────────┼────────────────────────┼───────────────┤\n",
       "│ max_pooling2d_1 (\u001b[38;5;33mMaxPooling2D\u001b[0m)  │ (\u001b[38;5;45mNone\u001b[0m, \u001b[38;5;34m36\u001b[0m, \u001b[38;5;34m36\u001b[0m, \u001b[38;5;34m64\u001b[0m)     │             \u001b[38;5;34m0\u001b[0m │\n",
       "├─────────────────────────────────┼────────────────────────┼───────────────┤\n",
       "│ conv2d_2 (\u001b[38;5;33mConv2D\u001b[0m)               │ (\u001b[38;5;45mNone\u001b[0m, \u001b[38;5;34m34\u001b[0m, \u001b[38;5;34m34\u001b[0m, \u001b[38;5;34m128\u001b[0m)    │        \u001b[38;5;34m73,856\u001b[0m │\n",
       "├─────────────────────────────────┼────────────────────────┼───────────────┤\n",
       "│ max_pooling2d_2 (\u001b[38;5;33mMaxPooling2D\u001b[0m)  │ (\u001b[38;5;45mNone\u001b[0m, \u001b[38;5;34m17\u001b[0m, \u001b[38;5;34m17\u001b[0m, \u001b[38;5;34m128\u001b[0m)    │             \u001b[38;5;34m0\u001b[0m │\n",
       "├─────────────────────────────────┼────────────────────────┼───────────────┤\n",
       "│ conv2d_3 (\u001b[38;5;33mConv2D\u001b[0m)               │ (\u001b[38;5;45mNone\u001b[0m, \u001b[38;5;34m15\u001b[0m, \u001b[38;5;34m15\u001b[0m, \u001b[38;5;34m128\u001b[0m)    │       \u001b[38;5;34m147,584\u001b[0m │\n",
       "├─────────────────────────────────┼────────────────────────┼───────────────┤\n",
       "│ max_pooling2d_3 (\u001b[38;5;33mMaxPooling2D\u001b[0m)  │ (\u001b[38;5;45mNone\u001b[0m, \u001b[38;5;34m7\u001b[0m, \u001b[38;5;34m7\u001b[0m, \u001b[38;5;34m128\u001b[0m)      │             \u001b[38;5;34m0\u001b[0m │\n",
       "├─────────────────────────────────┼────────────────────────┼───────────────┤\n",
       "│ flatten (\u001b[38;5;33mFlatten\u001b[0m)               │ (\u001b[38;5;45mNone\u001b[0m, \u001b[38;5;34m6272\u001b[0m)           │             \u001b[38;5;34m0\u001b[0m │\n",
       "├─────────────────────────────────┼────────────────────────┼───────────────┤\n",
       "│ dense (\u001b[38;5;33mDense\u001b[0m)                   │ (\u001b[38;5;45mNone\u001b[0m, \u001b[38;5;34m512\u001b[0m)            │     \u001b[38;5;34m3,211,776\u001b[0m │\n",
       "├─────────────────────────────────┼────────────────────────┼───────────────┤\n",
       "│ dense_1 (\u001b[38;5;33mDense\u001b[0m)                 │ (\u001b[38;5;45mNone\u001b[0m, \u001b[38;5;34m38\u001b[0m)             │        \u001b[38;5;34m19,494\u001b[0m │\n",
       "└─────────────────────────────────┴────────────────────────┴───────────────┘\n"
      ]
     },
     "metadata": {},
     "output_type": "display_data"
    },
    {
     "data": {
      "text/html": [
       "<pre style=\"white-space:pre;overflow-x:auto;line-height:normal;font-family:Menlo,'DejaVu Sans Mono',consolas,'Courier New',monospace\"><span style=\"font-weight: bold\"> Total params: </span><span style=\"color: #00af00; text-decoration-color: #00af00\">3,472,104</span> (13.25 MB)\n",
       "</pre>\n"
      ],
      "text/plain": [
       "\u001b[1m Total params: \u001b[0m\u001b[38;5;34m3,472,104\u001b[0m (13.25 MB)\n"
      ]
     },
     "metadata": {},
     "output_type": "display_data"
    },
    {
     "data": {
      "text/html": [
       "<pre style=\"white-space:pre;overflow-x:auto;line-height:normal;font-family:Menlo,'DejaVu Sans Mono',consolas,'Courier New',monospace\"><span style=\"font-weight: bold\"> Trainable params: </span><span style=\"color: #00af00; text-decoration-color: #00af00\">3,472,102</span> (13.25 MB)\n",
       "</pre>\n"
      ],
      "text/plain": [
       "\u001b[1m Trainable params: \u001b[0m\u001b[38;5;34m3,472,102\u001b[0m (13.25 MB)\n"
      ]
     },
     "metadata": {},
     "output_type": "display_data"
    },
    {
     "data": {
      "text/html": [
       "<pre style=\"white-space:pre;overflow-x:auto;line-height:normal;font-family:Menlo,'DejaVu Sans Mono',consolas,'Courier New',monospace\"><span style=\"font-weight: bold\"> Non-trainable params: </span><span style=\"color: #00af00; text-decoration-color: #00af00\">0</span> (0.00 B)\n",
       "</pre>\n"
      ],
      "text/plain": [
       "\u001b[1m Non-trainable params: \u001b[0m\u001b[38;5;34m0\u001b[0m (0.00 B)\n"
      ]
     },
     "metadata": {},
     "output_type": "display_data"
    },
    {
     "data": {
      "text/html": [
       "<pre style=\"white-space:pre;overflow-x:auto;line-height:normal;font-family:Menlo,'DejaVu Sans Mono',consolas,'Courier New',monospace\"><span style=\"font-weight: bold\"> Optimizer params: </span><span style=\"color: #00af00; text-decoration-color: #00af00\">2</span> (12.00 B)\n",
       "</pre>\n"
      ],
      "text/plain": [
       "\u001b[1m Optimizer params: \u001b[0m\u001b[38;5;34m2\u001b[0m (12.00 B)\n"
      ]
     },
     "metadata": {},
     "output_type": "display_data"
    }
   ],
   "source": [
    "from tensorflow.keras.models import load_model\n",
    "loaded_model = load_model('model.h5')\n",
    "\n",
    "\n",
    "loaded_model.summary()"
   ]
  },
  {
   "cell_type": "markdown",
   "metadata": {},
   "source": [
    "#### I GOT THE MODEL WHICH I MADE IN GOOGLE COLAB"
   ]
  },
  {
   "cell_type": "code",
   "execution_count": 2,
   "metadata": {},
   "outputs": [],
   "source": [
    "import json\n",
    "with open(\"training_hist.json\",\"r\") as f:\n",
    "    data=json.load(f)"
   ]
  },
  {
   "cell_type": "code",
   "execution_count": 3,
   "metadata": {},
   "outputs": [
    {
     "name": "stdout",
     "output_type": "stream",
     "text": [
      "loss:\n",
      "1.010542392730713\n",
      "0.307609885931015\n",
      "0.19398264586925507\n",
      "0.14014725387096405\n",
      "0.10855548828840256\n",
      "0.09341824054718018\n",
      "0.07808179408311844\n",
      "0.07141537964344025\n",
      "0.06960716843605042\n",
      "0.059834498912096024\n",
      "\n",
      "accuracy:\n",
      "0.6958569884300232\n",
      "0.9002746939659119\n",
      "0.9354994893074036\n",
      "0.9529339671134949\n",
      "0.9637362360954285\n",
      "0.9693295359611511\n",
      "0.9745954275131226\n",
      "0.976858377456665\n",
      "0.9780254364013672\n",
      "0.9817115664482117\n",
      "\n",
      "val_loss:\n",
      "0.4361322224140167\n",
      "0.3151673972606659\n",
      "0.22414042055606842\n",
      "0.22295071184635162\n",
      "0.19816844165325165\n",
      "0.1940544694662094\n",
      "0.301788330078125\n",
      "0.20501038432121277\n",
      "0.29289138317108154\n",
      "0.23095403611660004\n",
      "\n",
      "val_accuracy:\n",
      "0.8621357083320618\n",
      "0.8954348564147949\n",
      "0.9254895448684692\n",
      "0.9279940724372864\n",
      "0.9414275884628296\n",
      "0.9405737519264221\n",
      "0.9218465685844421\n",
      "0.9446721076965332\n",
      "0.9297017455101013\n",
      "0.9431352615356445\n",
      "\n"
     ]
    }
   ],
   "source": [
    "for key, value in data.items():\n",
    "    print(key + \":\")\n",
    "    for v in value:\n",
    "        print(v)\n",
    "    print()"
   ]
  },
  {
   "cell_type": "markdown",
   "metadata": {},
   "source": [
    "#### SO ABOVE REPRSENTS HOW MY COLUMNS VARY IN EACH AND EVERY MANNER"
   ]
  },
  {
   "cell_type": "code",
   "execution_count": 5,
   "metadata": {},
   "outputs": [],
   "source": [
    "import tensorflow as tf\n",
    "from tensorflow.keras.preprocessing.image import ImageDataGenerator\n",
    "train_datagen=ImageDataGenerator(rescale=1./255)\n",
    "validation_datagen=ImageDataGenerator(rescale=1./255)"
   ]
  },
  {
   "cell_type": "code",
   "execution_count": 6,
   "metadata": {},
   "outputs": [],
   "source": [
    "batch_size = 32\n",
    "image_size = (150, 150)"
   ]
  },
  {
   "cell_type": "code",
   "execution_count": 7,
   "metadata": {},
   "outputs": [
    {
     "name": "stdout",
     "output_type": "stream",
     "text": [
      "Found 70295 images belonging to 38 classes.\n",
      "Found 17572 images belonging to 38 classes.\n"
     ]
    }
   ],
   "source": [
    "train_generator = train_datagen.flow_from_directory(\n",
    "    'train',\n",
    "    target_size=image_size,\n",
    "    batch_size=batch_size,\n",
    "    class_mode='categorical')\n",
    "\n",
    "validation_generator = validation_datagen.flow_from_directory(\n",
    "    'valid',\n",
    "    target_size=image_size,\n",
    "    batch_size=batch_size,\n",
    "    class_mode='categorical')"
   ]
  },
  {
   "cell_type": "code",
   "execution_count": 14,
   "metadata": {},
   "outputs": [
    {
     "data": {
      "text/plain": [
       "['Apple___Apple_scab',\n",
       " 'Apple___Black_rot',\n",
       " 'Apple___Cedar_apple_rust',\n",
       " 'Apple___healthy',\n",
       " 'Blueberry___healthy',\n",
       " 'Cherry_(including_sour)___healthy',\n",
       " 'Cherry_(including_sour)___Powdery_mildew',\n",
       " 'Corn_(maize)___Cercospora_leaf_spot Gray_leaf_spot',\n",
       " 'Corn_(maize)___Common_rust_',\n",
       " 'Corn_(maize)___healthy',\n",
       " 'Corn_(maize)___Northern_Leaf_Blight',\n",
       " 'Grape___Black_rot',\n",
       " 'Grape___Esca_(Black_Measles)',\n",
       " 'Grape___healthy',\n",
       " 'Grape___Leaf_blight_(Isariopsis_Leaf_Spot)',\n",
       " 'Orange___Haunglongbing_(Citrus_greening)',\n",
       " 'Peach___Bacterial_spot',\n",
       " 'Peach___healthy',\n",
       " 'Pepper,_bell___Bacterial_spot',\n",
       " 'Pepper,_bell___healthy',\n",
       " 'Potato___Early_blight',\n",
       " 'Potato___healthy',\n",
       " 'Potato___Late_blight',\n",
       " 'Raspberry___healthy',\n",
       " 'Soybean___healthy',\n",
       " 'Squash___Powdery_mildew',\n",
       " 'Strawberry___healthy',\n",
       " 'Strawberry___Leaf_scorch',\n",
       " 'Tomato___Bacterial_spot',\n",
       " 'Tomato___Early_blight',\n",
       " 'Tomato___healthy',\n",
       " 'Tomato___Late_blight',\n",
       " 'Tomato___Leaf_Mold',\n",
       " 'Tomato___Septoria_leaf_spot',\n",
       " 'Tomato___Spider_mites Two-spotted_spider_mite',\n",
       " 'Tomato___Target_Spot',\n",
       " 'Tomato___Tomato_mosaic_virus',\n",
       " 'Tomato___Tomato_Yellow_Leaf_Curl_Virus']"
      ]
     },
     "execution_count": 14,
     "metadata": {},
     "output_type": "execute_result"
    }
   ],
   "source": [
    "os.listdir('train')"
   ]
  },
  {
   "cell_type": "code",
   "execution_count": 16,
   "metadata": {},
   "outputs": [
    {
     "name": "stdout",
     "output_type": "stream",
     "text": [
      "Found 17572 images belonging to 38 classes.\n"
     ]
    }
   ],
   "source": [
    "test_generator = validation_datagen.flow_from_directory(\n",
    "    'valid',\n",
    "    target_size=image_size,\n",
    "    batch_size=batch_size,\n",
    "    class_mode='categorical',\n",
    "    shuffle=False\n",
    ")"
   ]
  },
  {
   "cell_type": "code",
   "execution_count": 17,
   "metadata": {},
   "outputs": [
    {
     "name": "stderr",
     "output_type": "stream",
     "text": [
      "c:\\Users\\Charanjeet Juneja\\AppData\\Local\\Programs\\Python\\Python311\\Lib\\site-packages\\keras\\src\\trainers\\data_adapters\\py_dataset_adapter.py:122: UserWarning: Your `PyDataset` class should call `super().__init__(**kwargs)` in its constructor. `**kwargs` can include `workers`, `use_multiprocessing`, `max_queue_size`. Do not pass these arguments to `fit()`, as they will be ignored.\n",
      "  self._warn_if_super_not_called()\n"
     ]
    },
    {
     "name": "stdout",
     "output_type": "stream",
     "text": [
      "\u001b[1m550/550\u001b[0m \u001b[32m━━━━━━━━━━━━━━━━━━━━\u001b[0m\u001b[37m\u001b[0m \u001b[1m193s\u001b[0m 350ms/step\n"
     ]
    }
   ],
   "source": [
    "predicted_y_value=loaded_model.predict(test_generator)"
   ]
  },
  {
   "cell_type": "code",
   "execution_count": 18,
   "metadata": {},
   "outputs": [
    {
     "data": {
      "text/plain": [
       "array([[9.99742687e-01, 1.43913284e-11, 3.20776023e-12, ...,\n",
       "        1.37512754e-19, 1.43489872e-14, 8.73193740e-10],\n",
       "       [1.00000000e+00, 9.29123389e-10, 6.38917001e-12, ...,\n",
       "        7.72836613e-26, 1.74193335e-17, 7.49125849e-15],\n",
       "       [1.00000000e+00, 2.75423907e-16, 2.55120262e-16, ...,\n",
       "        6.03159493e-32, 1.77418318e-25, 1.21330364e-17],\n",
       "       ...,\n",
       "       [2.54080561e-08, 5.95703327e-22, 5.42784429e-10, ...,\n",
       "        3.18571209e-15, 1.36486620e-14, 9.89745319e-01],\n",
       "       [2.22798060e-12, 4.14184138e-27, 6.44121207e-15, ...,\n",
       "        2.09727475e-15, 1.43332128e-20, 1.00000000e+00],\n",
       "       [2.95866416e-23, 2.27663553e-23, 4.11500772e-23, ...,\n",
       "        2.14155872e-23, 1.75902397e-18, 9.99983191e-01]], dtype=float32)"
      ]
     },
     "execution_count": 18,
     "metadata": {},
     "output_type": "execute_result"
    }
   ],
   "source": [
    "predicted_y_value"
   ]
  },
  {
   "cell_type": "code",
   "execution_count": 19,
   "metadata": {},
   "outputs": [
    {
     "data": {
      "text/plain": [
       "(17572, 38)"
      ]
     },
     "execution_count": 19,
     "metadata": {},
     "output_type": "execute_result"
    }
   ],
   "source": [
    "predicted_y_value.shape"
   ]
  },
  {
   "cell_type": "code",
   "execution_count": 20,
   "metadata": {},
   "outputs": [],
   "source": [
    "predicted_categories=tf.argmax(predicted_y_value,axis=1)"
   ]
  },
  {
   "cell_type": "code",
   "execution_count": 21,
   "metadata": {},
   "outputs": [
    {
     "data": {
      "text/plain": [
       "<tf.Tensor: shape=(17572,), dtype=int64, numpy=array([ 0,  0,  0, ..., 37, 37, 37], dtype=int64)>"
      ]
     },
     "execution_count": 21,
     "metadata": {},
     "output_type": "execute_result"
    }
   ],
   "source": [
    "predicted_categories"
   ]
  },
  {
   "cell_type": "code",
   "execution_count": 22,
   "metadata": {},
   "outputs": [
    {
     "data": {
      "text/plain": [
       "TensorShape([17572])"
      ]
     },
     "execution_count": 22,
     "metadata": {},
     "output_type": "execute_result"
    }
   ],
   "source": [
    "predicted_categories.shape"
   ]
  },
  {
   "cell_type": "code",
   "execution_count": 24,
   "metadata": {},
   "outputs": [
    {
     "name": "stdout",
     "output_type": "stream",
     "text": [
      "[[[[0.5137255  0.47450984 0.5058824 ]\n",
      "   [0.5254902  0.48627454 0.5176471 ]\n",
      "   [0.60784316 0.5686275  0.6       ]\n",
      "   ...\n",
      "   [0.67058825 0.64705884 0.6627451 ]\n",
      "   [0.5803922  0.5568628  0.57254905]\n",
      "   [0.5294118  0.5058824  0.52156866]]\n",
      "\n",
      "  [[0.5882353  0.54901963 0.5803922 ]\n",
      "   [0.5176471  0.4784314  0.50980395]\n",
      "   [0.654902   0.6156863  0.64705884]\n",
      "   ...\n",
      "   [0.72156864 0.69803923 0.7137255 ]\n",
      "   [0.70980394 0.6862745  0.7019608 ]\n",
      "   [0.63529414 0.6117647  0.627451  ]]\n",
      "\n",
      "  [[0.49803925 0.454902   0.48627454]\n",
      "   [0.47450984 0.43137258 0.46274513]\n",
      "   [0.6117647  0.5686275  0.6       ]\n",
      "   ...\n",
      "   [0.61960787 0.59607846 0.6117647 ]\n",
      "   [0.63529414 0.6117647  0.627451  ]\n",
      "   [0.5921569  0.5686275  0.58431375]]\n",
      "\n",
      "  ...\n",
      "\n",
      "  [[0.6313726  0.6        0.6509804 ]\n",
      "   [0.59607846 0.5647059  0.6156863 ]\n",
      "   [0.5882353  0.5568628  0.60784316]\n",
      "   ...\n",
      "   [0.70980394 0.6901961  0.7176471 ]\n",
      "   [0.7607844  0.7411765  0.7686275 ]\n",
      "   [0.8117648  0.79215693 0.8196079 ]]\n",
      "\n",
      "  [[0.6392157  0.60784316 0.65882355]\n",
      "   [0.6392157  0.60784316 0.65882355]\n",
      "   [0.64705884 0.6156863  0.6666667 ]\n",
      "   ...\n",
      "   [0.7607844  0.7411765  0.7686275 ]\n",
      "   [0.68235296 0.6627451  0.6901961 ]\n",
      "   [0.70980394 0.6901961  0.7176471 ]]\n",
      "\n",
      "  [[0.6901961  0.65882355 0.70980394]\n",
      "   [0.62352943 0.5921569  0.6431373 ]\n",
      "   [0.7411765  0.70980394 0.7607844 ]\n",
      "   ...\n",
      "   [0.68235296 0.6627451  0.6901961 ]\n",
      "   [0.6784314  0.65882355 0.6862745 ]\n",
      "   [0.67058825 0.6509804  0.6784314 ]]]\n",
      "\n",
      "\n",
      " [[[0.50980395 0.5058824  0.627451  ]\n",
      "   [0.5176471  0.5137255  0.63529414]\n",
      "   [0.50980395 0.5058824  0.627451  ]\n",
      "   ...\n",
      "   [0.7725491  0.7686275  0.83921576]\n",
      "   [0.7686275  0.76470596 0.8352942 ]\n",
      "   [0.82745105 0.8235295  0.8941177 ]]\n",
      "\n",
      "  [[0.5568628  0.5529412  0.6745098 ]\n",
      "   [0.5529412  0.54901963 0.67058825]\n",
      "   [0.5294118  0.5254902  0.64705884]\n",
      "   ...\n",
      "   [0.7686275  0.76470596 0.8352942 ]\n",
      "   [0.8000001  0.7960785  0.86666673]\n",
      "   [0.81568635 0.8117648  0.882353  ]]\n",
      "\n",
      "  [[0.5176471  0.5137255  0.63529414]\n",
      "   [0.5176471  0.5137255  0.63529414]\n",
      "   [0.5137255  0.50980395 0.6313726 ]\n",
      "   ...\n",
      "   [0.79215693 0.78823537 0.8588236 ]\n",
      "   [0.8235295  0.8196079  0.89019614]\n",
      "   [0.7568628  0.75294125 0.8235295 ]]\n",
      "\n",
      "  ...\n",
      "\n",
      "  [[0.4784314  0.47058827 0.5568628 ]\n",
      "   [0.41176474 0.39607847 0.48627454]\n",
      "   [0.47058827 0.43921572 0.53333336]\n",
      "   ...\n",
      "   [0.68235296 0.6431373  0.7372549 ]\n",
      "   [0.427451   0.38823533 0.48235297]\n",
      "   [0.5882353  0.54901963 0.64705884]]\n",
      "\n",
      "  [[0.48235297 0.47450984 0.56078434]\n",
      "   [0.4039216  0.38823533 0.4784314 ]\n",
      "   [0.4431373  0.41176474 0.5058824 ]\n",
      "   ...\n",
      "   [0.4784314  0.43921572 0.53333336]\n",
      "   [0.59607846 0.5568628  0.6509804 ]\n",
      "   [0.62352943 0.58431375 0.68235296]]\n",
      "\n",
      "  [[0.45098042 0.4431373  0.5294118 ]\n",
      "   [0.5882353  0.57254905 0.6627451 ]\n",
      "   [0.4666667  0.43529415 0.5294118 ]\n",
      "   ...\n",
      "   [0.33333334 0.29411766 0.38823533]\n",
      "   [0.3372549  0.29803923 0.3921569 ]\n",
      "   [0.33333334 0.29411766 0.3921569 ]]]\n",
      "\n",
      "\n",
      " [[[0.74509805 0.69803923 0.7137255 ]\n",
      "   [0.5803922  0.53333336 0.54901963]\n",
      "   [0.654902   0.60784316 0.62352943]\n",
      "   ...\n",
      "   [0.9176471  0.8745099  0.8980393 ]\n",
      "   [0.83921576 0.7960785  0.8196079 ]\n",
      "   [0.9568628  0.91372555 0.93725497]]\n",
      "\n",
      "  [[0.6745098  0.627451   0.6431373 ]\n",
      "   [0.627451   0.5803922  0.59607846]\n",
      "   [0.7137255  0.6666667  0.68235296]\n",
      "   ...\n",
      "   [0.9058824  0.86274517 0.8862746 ]\n",
      "   [0.89019614 0.8470589  0.8705883 ]\n",
      "   [0.8313726  0.78823537 0.8117648 ]]\n",
      "\n",
      "  [[0.7490196  0.7019608  0.7176471 ]\n",
      "   [0.69411767 0.64705884 0.6627451 ]\n",
      "   [0.61960787 0.57254905 0.5882353 ]\n",
      "   ...\n",
      "   [0.87843144 0.8352942  0.8588236 ]\n",
      "   [0.89019614 0.8470589  0.8705883 ]\n",
      "   [0.9058824  0.86274517 0.8862746 ]]\n",
      "\n",
      "  ...\n",
      "\n",
      "  [[0.6666667  0.6156863  0.6431373 ]\n",
      "   [0.6392157  0.5882353  0.6156863 ]\n",
      "   [0.6627451  0.6117647  0.6392157 ]\n",
      "   ...\n",
      "   [0.7803922  0.7372549  0.7686275 ]\n",
      "   [0.78823537 0.74509805 0.77647066]\n",
      "   [0.79215693 0.7490196  0.7803922 ]]\n",
      "\n",
      "  [[0.61960787 0.5686275  0.59607846]\n",
      "   [0.7607844  0.70980394 0.7372549 ]\n",
      "   [0.7254902  0.6745098  0.7019608 ]\n",
      "   ...\n",
      "   [0.76470596 0.72156864 0.75294125]\n",
      "   [0.7843138  0.7411765  0.7725491 ]\n",
      "   [0.83921576 0.7960785  0.82745105]]\n",
      "\n",
      "  [[0.8078432  0.7568628  0.7843138 ]\n",
      "   [0.6313726  0.5803922  0.60784316]\n",
      "   [0.6627451  0.6117647  0.6392157 ]\n",
      "   ...\n",
      "   [0.7686275  0.7254902  0.7568628 ]\n",
      "   [0.8117648  0.7686275  0.8000001 ]\n",
      "   [0.8470589  0.80392164 0.8352942 ]]]\n",
      "\n",
      "\n",
      " ...\n",
      "\n",
      "\n",
      " [[[0.8313726  0.83921576 0.8980393 ]\n",
      "   [0.8470589  0.854902   0.91372555]\n",
      "   [0.8980393  0.9058824  0.96470594]\n",
      "   ...\n",
      "   [0.5254902  0.5176471  0.6039216 ]\n",
      "   [0.5058824  0.49803925 0.58431375]\n",
      "   [0.47450984 0.4666667  0.5529412 ]]\n",
      "\n",
      "  [[0.854902   0.86274517 0.9215687 ]\n",
      "   [0.8196079  0.82745105 0.8862746 ]\n",
      "   [0.7725491  0.7803922  0.83921576]\n",
      "   ...\n",
      "   [0.53333336 0.5254902  0.6117647 ]\n",
      "   [0.50980395 0.5019608  0.5882353 ]\n",
      "   [0.50980395 0.5019608  0.5882353 ]]\n",
      "\n",
      "  [[0.8117648  0.8196079  0.87843144]\n",
      "   [0.9215687  0.9294118  0.98823535]\n",
      "   [0.8352942  0.8431373  0.90196085]\n",
      "   ...\n",
      "   [0.5294118  0.52156866 0.60784316]\n",
      "   [0.5176471  0.50980395 0.59607846]\n",
      "   [0.53333336 0.5254902  0.6117647 ]]\n",
      "\n",
      "  ...\n",
      "\n",
      "  [[0.5176471  0.5058824  0.61960787]\n",
      "   [0.5176471  0.5058824  0.61960787]\n",
      "   [0.5372549  0.5254902  0.6392157 ]\n",
      "   ...\n",
      "   [0.41176474 0.3921569  0.48235297]\n",
      "   [0.427451   0.40784317 0.49803925]\n",
      "   [0.40784317 0.38823533 0.4784314 ]]\n",
      "\n",
      "  [[0.5294118  0.5176471  0.6313726 ]\n",
      "   [0.50980395 0.49803925 0.6117647 ]\n",
      "   [0.5176471  0.5058824  0.61960787]\n",
      "   ...\n",
      "   [0.427451   0.40784317 0.49803925]\n",
      "   [0.41960788 0.40000004 0.4901961 ]\n",
      "   [0.41960788 0.40000004 0.4901961 ]]\n",
      "\n",
      "  [[0.5372549  0.5254902  0.6392157 ]\n",
      "   [0.52156866 0.50980395 0.62352943]\n",
      "   [0.5372549  0.5254902  0.6392157 ]\n",
      "   ...\n",
      "   [0.35686275 0.3372549  0.427451  ]\n",
      "   [0.40784317 0.38823533 0.4784314 ]\n",
      "   [0.3529412  0.33333334 0.42352945]]]\n",
      "\n",
      "\n",
      " [[[0.7137255  0.6666667  0.7058824 ]\n",
      "   [0.67058825 0.62352943 0.6627451 ]\n",
      "   [0.6509804  0.6039216  0.6431373 ]\n",
      "   ...\n",
      "   [0.68235296 0.63529414 0.6745098 ]\n",
      "   [0.5411765  0.49411768 0.53333336]\n",
      "   [0.5568628  0.50980395 0.54901963]]\n",
      "\n",
      "  [[0.7058824  0.65882355 0.69803923]\n",
      "   [0.79215693 0.74509805 0.7843138 ]\n",
      "   [0.8000001  0.75294125 0.79215693]\n",
      "   ...\n",
      "   [0.6431373  0.59607846 0.63529414]\n",
      "   [0.7019608  0.654902   0.69411767]\n",
      "   [0.6862745  0.6392157  0.6784314 ]]\n",
      "\n",
      "  [[0.7686275  0.72156864 0.7607844 ]\n",
      "   [0.7490196  0.7019608  0.7411765 ]\n",
      "   [0.70980394 0.6627451  0.7019608 ]\n",
      "   ...\n",
      "   [0.5568628  0.50980395 0.54901963]\n",
      "   [0.54509807 0.49803925 0.5372549 ]\n",
      "   [0.5882353  0.5411765  0.5803922 ]]\n",
      "\n",
      "  ...\n",
      "\n",
      "  [[0.8941177  0.86666673 0.8941177 ]\n",
      "   [0.9490197  0.9215687  0.9490197 ]\n",
      "   [0.9490197  0.9215687  0.9490197 ]\n",
      "   ...\n",
      "   [0.7803922  0.7372549  0.7607844 ]\n",
      "   [0.654902   0.6117647  0.63529414]\n",
      "   [0.7294118  0.6862745  0.70980394]]\n",
      "\n",
      "  [[0.7607844  0.73333335 0.7607844 ]\n",
      "   [0.79215693 0.76470596 0.79215693]\n",
      "   [0.8470589  0.8196079  0.8470589 ]\n",
      "   ...\n",
      "   [0.77647066 0.73333335 0.7568628 ]\n",
      "   [0.654902   0.6117647  0.63529414]\n",
      "   [0.8313726  0.78823537 0.8117648 ]]\n",
      "\n",
      "  [[0.7372549  0.70980394 0.7372549 ]\n",
      "   [0.8431373  0.81568635 0.8431373 ]\n",
      "   [0.8078432  0.7803922  0.8078432 ]\n",
      "   ...\n",
      "   [0.78823537 0.74509805 0.7686275 ]\n",
      "   [0.882353   0.83921576 0.86274517]\n",
      "   [0.75294125 0.70980394 0.73333335]]]\n",
      "\n",
      "\n",
      " [[[0.43529415 0.4039216  0.49411768]\n",
      "   [0.4666667  0.43529415 0.5254902 ]\n",
      "   [0.4901961  0.45882356 0.54901963]\n",
      "   ...\n",
      "   [0.6862745  0.67058825 0.7607844 ]\n",
      "   [0.6862745  0.67058825 0.7607844 ]\n",
      "   [0.6901961  0.6745098  0.76470596]]\n",
      "\n",
      "  [[0.3803922  0.34901962 0.43921572]\n",
      "   [0.43921572 0.40784317 0.49803925]\n",
      "   [0.45882356 0.427451   0.5176471 ]\n",
      "   ...\n",
      "   [0.7019608  0.6862745  0.77647066]\n",
      "   [0.6901961  0.6745098  0.76470596]\n",
      "   [0.69803923 0.68235296 0.7725491 ]]\n",
      "\n",
      "  [[0.4901961  0.45882356 0.54901963]\n",
      "   [0.45098042 0.41960788 0.50980395]\n",
      "   [0.4666667  0.43529415 0.5254902 ]\n",
      "   ...\n",
      "   [0.7294118  0.7137255  0.80392164]\n",
      "   [0.7058824  0.6901961  0.7803922 ]\n",
      "   [0.69803923 0.68235296 0.7725491 ]]\n",
      "\n",
      "  ...\n",
      "\n",
      "  [[0.54509807 0.5372549  0.6313726 ]\n",
      "   [0.54901963 0.5411765  0.63529414]\n",
      "   [0.5411765  0.53333336 0.627451  ]\n",
      "   ...\n",
      "   [0.8588236  0.86274517 0.9333334 ]\n",
      "   [0.79215693 0.7960785  0.86666673]\n",
      "   [0.86666673 0.8705883  0.94117653]]\n",
      "\n",
      "  [[0.5372549  0.5294118  0.62352943]\n",
      "   [0.5529412  0.54509807 0.6392157 ]\n",
      "   [0.56078434 0.5529412  0.64705884]\n",
      "   ...\n",
      "   [0.82745105 0.8313726  0.90196085]\n",
      "   [0.7725491  0.77647066 0.8470589 ]\n",
      "   [0.87843144 0.882353   0.95294124]]\n",
      "\n",
      "  [[0.5058824  0.49803925 0.5921569 ]\n",
      "   [0.5294118  0.52156866 0.6156863 ]\n",
      "   [0.54901963 0.5411765  0.63529414]\n",
      "   ...\n",
      "   [0.86274517 0.86666673 0.93725497]\n",
      "   [0.882353   0.8862746  0.9568628 ]\n",
      "   [0.83921576 0.8431373  0.91372555]]]] (32, 150, 150, 3)\n",
      "[[0. 0. 0. ... 0. 0. 0.]\n",
      " [0. 0. 0. ... 0. 0. 0.]\n",
      " [0. 0. 0. ... 0. 0. 0.]\n",
      " ...\n",
      " [0. 0. 0. ... 0. 0. 0.]\n",
      " [0. 0. 0. ... 0. 0. 0.]\n",
      " [0. 0. 0. ... 0. 0. 0.]] (32, 38)\n",
      "\n"
     ]
    }
   ],
   "source": [
    "for x,y in test_generator:\n",
    "    print(x,x.shape)\n",
    "    print(y,y.shape)\n",
    "    print()\n",
    "    break"
   ]
  },
  {
   "cell_type": "code",
   "execution_count": 26,
   "metadata": {},
   "outputs": [
    {
     "ename": "KeyboardInterrupt",
     "evalue": "",
     "output_type": "error",
     "traceback": [
      "\u001b[1;31m---------------------------------------------------------------------------\u001b[0m",
      "\u001b[1;31mKeyboardInterrupt\u001b[0m                         Traceback (most recent call last)",
      "Cell \u001b[1;32mIn[26], line 1\u001b[0m\n\u001b[1;32m----> 1\u001b[0m true_categores\u001b[38;5;241m=\u001b[39mtf\u001b[38;5;241m.\u001b[39mconcat(\u001b[43m[\u001b[49m\u001b[43my\u001b[49m\u001b[43m \u001b[49m\u001b[38;5;28;43;01mfor\u001b[39;49;00m\u001b[43m \u001b[49m\u001b[43mx\u001b[49m\u001b[43m,\u001b[49m\u001b[43my\u001b[49m\u001b[43m \u001b[49m\u001b[38;5;129;43;01min\u001b[39;49;00m\u001b[43m \u001b[49m\u001b[43mtest_generator\u001b[49m\u001b[43m]\u001b[49m,axis\u001b[38;5;241m=\u001b[39m\u001b[38;5;241m0\u001b[39m)\n",
      "Cell \u001b[1;32mIn[26], line 1\u001b[0m, in \u001b[0;36m<listcomp>\u001b[1;34m(.0)\u001b[0m\n\u001b[1;32m----> 1\u001b[0m true_categores\u001b[38;5;241m=\u001b[39mtf\u001b[38;5;241m.\u001b[39mconcat(\u001b[43m[\u001b[49m\u001b[43my\u001b[49m\u001b[43m \u001b[49m\u001b[38;5;28;43;01mfor\u001b[39;49;00m\u001b[43m \u001b[49m\u001b[43mx\u001b[49m\u001b[43m,\u001b[49m\u001b[43my\u001b[49m\u001b[43m \u001b[49m\u001b[38;5;129;43;01min\u001b[39;49;00m\u001b[43m \u001b[49m\u001b[43mtest_generator\u001b[49m\u001b[43m]\u001b[49m,axis\u001b[38;5;241m=\u001b[39m\u001b[38;5;241m0\u001b[39m)\n",
      "File \u001b[1;32mc:\\Users\\Charanjeet Juneja\\AppData\\Local\\Programs\\Python\\Python311\\Lib\\site-packages\\keras\\src\\legacy\\preprocessing\\image.py:112\u001b[0m, in \u001b[0;36mIterator.__next__\u001b[1;34m(self)\u001b[0m\n\u001b[0;32m    109\u001b[0m     index_array \u001b[38;5;241m=\u001b[39m \u001b[38;5;28mnext\u001b[39m(\u001b[38;5;28mself\u001b[39m\u001b[38;5;241m.\u001b[39mindex_generator)\n\u001b[0;32m    110\u001b[0m \u001b[38;5;66;03m# The transformation of images is not under thread lock\u001b[39;00m\n\u001b[0;32m    111\u001b[0m \u001b[38;5;66;03m# so it can be done in parallel\u001b[39;00m\n\u001b[1;32m--> 112\u001b[0m \u001b[38;5;28;01mreturn\u001b[39;00m \u001b[38;5;28;43mself\u001b[39;49m\u001b[38;5;241;43m.\u001b[39;49m\u001b[43m_get_batches_of_transformed_samples\u001b[49m\u001b[43m(\u001b[49m\u001b[43mindex_array\u001b[49m\u001b[43m)\u001b[49m\n",
      "File \u001b[1;32mc:\\Users\\Charanjeet Juneja\\AppData\\Local\\Programs\\Python\\Python311\\Lib\\site-packages\\keras\\src\\legacy\\preprocessing\\image.py:313\u001b[0m, in \u001b[0;36mBatchFromFilesMixin._get_batches_of_transformed_samples\u001b[1;34m(self, index_array)\u001b[0m\n\u001b[0;32m    311\u001b[0m filepaths \u001b[38;5;241m=\u001b[39m \u001b[38;5;28mself\u001b[39m\u001b[38;5;241m.\u001b[39mfilepaths\n\u001b[0;32m    312\u001b[0m \u001b[38;5;28;01mfor\u001b[39;00m i, j \u001b[38;5;129;01min\u001b[39;00m \u001b[38;5;28menumerate\u001b[39m(index_array):\n\u001b[1;32m--> 313\u001b[0m     img \u001b[38;5;241m=\u001b[39m \u001b[43mimage_utils\u001b[49m\u001b[38;5;241;43m.\u001b[39;49m\u001b[43mload_img\u001b[49m\u001b[43m(\u001b[49m\n\u001b[0;32m    314\u001b[0m \u001b[43m        \u001b[49m\u001b[43mfilepaths\u001b[49m\u001b[43m[\u001b[49m\u001b[43mj\u001b[49m\u001b[43m]\u001b[49m\u001b[43m,\u001b[49m\n\u001b[0;32m    315\u001b[0m \u001b[43m        \u001b[49m\u001b[43mcolor_mode\u001b[49m\u001b[38;5;241;43m=\u001b[39;49m\u001b[38;5;28;43mself\u001b[39;49m\u001b[38;5;241;43m.\u001b[39;49m\u001b[43mcolor_mode\u001b[49m\u001b[43m,\u001b[49m\n\u001b[0;32m    316\u001b[0m \u001b[43m        \u001b[49m\u001b[43mtarget_size\u001b[49m\u001b[38;5;241;43m=\u001b[39;49m\u001b[38;5;28;43mself\u001b[39;49m\u001b[38;5;241;43m.\u001b[39;49m\u001b[43mtarget_size\u001b[49m\u001b[43m,\u001b[49m\n\u001b[0;32m    317\u001b[0m \u001b[43m        \u001b[49m\u001b[43minterpolation\u001b[49m\u001b[38;5;241;43m=\u001b[39;49m\u001b[38;5;28;43mself\u001b[39;49m\u001b[38;5;241;43m.\u001b[39;49m\u001b[43minterpolation\u001b[49m\u001b[43m,\u001b[49m\n\u001b[0;32m    318\u001b[0m \u001b[43m        \u001b[49m\u001b[43mkeep_aspect_ratio\u001b[49m\u001b[38;5;241;43m=\u001b[39;49m\u001b[38;5;28;43mself\u001b[39;49m\u001b[38;5;241;43m.\u001b[39;49m\u001b[43mkeep_aspect_ratio\u001b[49m\u001b[43m,\u001b[49m\n\u001b[0;32m    319\u001b[0m \u001b[43m    \u001b[49m\u001b[43m)\u001b[49m\n\u001b[0;32m    320\u001b[0m     x \u001b[38;5;241m=\u001b[39m image_utils\u001b[38;5;241m.\u001b[39mimg_to_array(img, data_format\u001b[38;5;241m=\u001b[39m\u001b[38;5;28mself\u001b[39m\u001b[38;5;241m.\u001b[39mdata_format)\n\u001b[0;32m    321\u001b[0m     \u001b[38;5;66;03m# Pillow images should be closed after `load_img`,\u001b[39;00m\n\u001b[0;32m    322\u001b[0m     \u001b[38;5;66;03m# but not PIL images.\u001b[39;00m\n",
      "File \u001b[1;32mc:\\Users\\Charanjeet Juneja\\AppData\\Local\\Programs\\Python\\Python311\\Lib\\site-packages\\keras\\src\\utils\\image_utils.py:292\u001b[0m, in \u001b[0;36mload_img\u001b[1;34m(path, color_mode, target_size, interpolation, keep_aspect_ratio)\u001b[0m\n\u001b[0;32m    290\u001b[0m             img \u001b[38;5;241m=\u001b[39m img\u001b[38;5;241m.\u001b[39mresize(width_height_tuple, resample, box\u001b[38;5;241m=\u001b[39mcrop_box)\n\u001b[0;32m    291\u001b[0m         \u001b[38;5;28;01melse\u001b[39;00m:\n\u001b[1;32m--> 292\u001b[0m             img \u001b[38;5;241m=\u001b[39m \u001b[43mimg\u001b[49m\u001b[38;5;241;43m.\u001b[39;49m\u001b[43mresize\u001b[49m\u001b[43m(\u001b[49m\u001b[43mwidth_height_tuple\u001b[49m\u001b[43m,\u001b[49m\u001b[43m \u001b[49m\u001b[43mresample\u001b[49m\u001b[43m)\u001b[49m\n\u001b[0;32m    293\u001b[0m \u001b[38;5;28;01mreturn\u001b[39;00m img\n",
      "File \u001b[1;32mc:\\Users\\Charanjeet Juneja\\AppData\\Local\\Programs\\Python\\Python311\\Lib\\site-packages\\PIL\\Image.py:2138\u001b[0m, in \u001b[0;36mImage.resize\u001b[1;34m(self, size, resample, box, reducing_gap)\u001b[0m\n\u001b[0;32m   2134\u001b[0m     \u001b[38;5;28;01mraise\u001b[39;00m \u001b[38;5;167;01mValueError\u001b[39;00m(msg)\n\u001b[0;32m   2136\u001b[0m size \u001b[38;5;241m=\u001b[39m \u001b[38;5;28mtuple\u001b[39m(size)\n\u001b[1;32m-> 2138\u001b[0m \u001b[38;5;28;43mself\u001b[39;49m\u001b[38;5;241;43m.\u001b[39;49m\u001b[43mload\u001b[49m\u001b[43m(\u001b[49m\u001b[43m)\u001b[49m\n\u001b[0;32m   2139\u001b[0m \u001b[38;5;28;01mif\u001b[39;00m box \u001b[38;5;129;01mis\u001b[39;00m \u001b[38;5;28;01mNone\u001b[39;00m:\n\u001b[0;32m   2140\u001b[0m     box \u001b[38;5;241m=\u001b[39m (\u001b[38;5;241m0\u001b[39m, \u001b[38;5;241m0\u001b[39m) \u001b[38;5;241m+\u001b[39m \u001b[38;5;28mself\u001b[39m\u001b[38;5;241m.\u001b[39msize\n",
      "File \u001b[1;32mc:\\Users\\Charanjeet Juneja\\AppData\\Local\\Programs\\Python\\Python311\\Lib\\site-packages\\PIL\\ImageFile.py:269\u001b[0m, in \u001b[0;36mImageFile.load\u001b[1;34m(self)\u001b[0m\n\u001b[0;32m    266\u001b[0m         \u001b[38;5;28;01mraise\u001b[39;00m \u001b[38;5;167;01mOSError\u001b[39;00m(msg)\n\u001b[0;32m    268\u001b[0m b \u001b[38;5;241m=\u001b[39m b \u001b[38;5;241m+\u001b[39m s\n\u001b[1;32m--> 269\u001b[0m n, err_code \u001b[38;5;241m=\u001b[39m \u001b[43mdecoder\u001b[49m\u001b[38;5;241;43m.\u001b[39;49m\u001b[43mdecode\u001b[49m\u001b[43m(\u001b[49m\u001b[43mb\u001b[49m\u001b[43m)\u001b[49m\n\u001b[0;32m    270\u001b[0m \u001b[38;5;28;01mif\u001b[39;00m n \u001b[38;5;241m<\u001b[39m \u001b[38;5;241m0\u001b[39m:\n\u001b[0;32m    271\u001b[0m     \u001b[38;5;28;01mbreak\u001b[39;00m\n",
      "\u001b[1;31mKeyboardInterrupt\u001b[0m: "
     ]
    }
   ],
   "source": [
    "true_categores=tf.concat([y for x,y in test_generator],axis=0)"
   ]
  },
  {
   "cell_type": "code",
   "execution_count": null,
   "metadata": {},
   "outputs": [],
   "source": [
    "y_true=tf.argmax(true_categores,axis=1)"
   ]
  },
  {
   "cell_type": "code",
   "execution_count": 42,
   "metadata": {},
   "outputs": [
    {
     "name": "stdout",
     "output_type": "stream",
     "text": [
      "\u001b[1m1/1\u001b[0m \u001b[32m━━━━━━━━━━━━━━━━━━━━\u001b[0m\u001b[37m\u001b[0m \u001b[1m0s\u001b[0m 34ms/step\n"
     ]
    }
   ],
   "source": [
    "import numpy as np\n",
    "from tensorflow.keras.preprocessing import image\n",
    "img_path = r'train\\Apple___Cedar_apple_rust\\0a41c25a-f9a6-4c34-8e5c-7f89a6ac4c40___FREC_C.Rust 9807_90deg.JPG'  # Change this to the path of your image\n",
    "img = image.load_img(img_path, target_size=(150, 150))\n",
    "img_array = image.img_to_array(img)\n",
    "img_array = np.expand_dims(img_array, axis=0)  \n",
    "\n",
    "img_array /= 255.0\n",
    "\n",
    "predictions = loaded_model.predict(img_array)\n",
    "\n",
    "predicted_class_index = np.argmax(predictions)\n"
   ]
  },
  {
   "cell_type": "code",
   "execution_count": 43,
   "metadata": {},
   "outputs": [
    {
     "data": {
      "text/plain": [
       "2"
      ]
     },
     "execution_count": 43,
     "metadata": {},
     "output_type": "execute_result"
    }
   ],
   "source": [
    "predicted_class_index"
   ]
  },
  {
   "cell_type": "code",
   "execution_count": 35,
   "metadata": {},
   "outputs": [],
   "source": [
    "list_of_classes=os.listdir('train')"
   ]
  },
  {
   "cell_type": "code",
   "execution_count": 44,
   "metadata": {},
   "outputs": [
    {
     "data": {
      "text/plain": [
       "'Apple___Cedar_apple_rust'"
      ]
     },
     "execution_count": 44,
     "metadata": {},
     "output_type": "execute_result"
    }
   ],
   "source": [
    "list_of_classes[2]"
   ]
  },
  {
   "cell_type": "code",
   "execution_count": 45,
   "metadata": {},
   "outputs": [
    {
     "data": {
      "text/plain": [
       "['Apple___Apple_scab',\n",
       " 'Apple___Black_rot',\n",
       " 'Apple___Cedar_apple_rust',\n",
       " 'Apple___healthy',\n",
       " 'Blueberry___healthy',\n",
       " 'Cherry_(including_sour)___healthy',\n",
       " 'Cherry_(including_sour)___Powdery_mildew',\n",
       " 'Corn_(maize)___Cercospora_leaf_spot Gray_leaf_spot',\n",
       " 'Corn_(maize)___Common_rust_',\n",
       " 'Corn_(maize)___healthy',\n",
       " 'Corn_(maize)___Northern_Leaf_Blight',\n",
       " 'Grape___Black_rot',\n",
       " 'Grape___Esca_(Black_Measles)',\n",
       " 'Grape___healthy',\n",
       " 'Grape___Leaf_blight_(Isariopsis_Leaf_Spot)',\n",
       " 'Orange___Haunglongbing_(Citrus_greening)',\n",
       " 'Peach___Bacterial_spot',\n",
       " 'Peach___healthy',\n",
       " 'Pepper,_bell___Bacterial_spot',\n",
       " 'Pepper,_bell___healthy',\n",
       " 'Potato___Early_blight',\n",
       " 'Potato___healthy',\n",
       " 'Potato___Late_blight',\n",
       " 'Raspberry___healthy',\n",
       " 'Soybean___healthy',\n",
       " 'Squash___Powdery_mildew',\n",
       " 'Strawberry___healthy',\n",
       " 'Strawberry___Leaf_scorch',\n",
       " 'Tomato___Bacterial_spot',\n",
       " 'Tomato___Early_blight',\n",
       " 'Tomato___healthy',\n",
       " 'Tomato___Late_blight',\n",
       " 'Tomato___Leaf_Mold',\n",
       " 'Tomato___Septoria_leaf_spot',\n",
       " 'Tomato___Spider_mites Two-spotted_spider_mite',\n",
       " 'Tomato___Target_Spot',\n",
       " 'Tomato___Tomato_mosaic_virus',\n",
       " 'Tomato___Tomato_Yellow_Leaf_Curl_Virus']"
      ]
     },
     "execution_count": 45,
     "metadata": {},
     "output_type": "execute_result"
    }
   ],
   "source": [
    "list_of_classes"
   ]
  },
  {
   "cell_type": "code",
   "execution_count": 46,
   "metadata": {},
   "outputs": [
    {
     "name": "stdout",
     "output_type": "stream",
     "text": [
      "\u001b[1m1/1\u001b[0m \u001b[32m━━━━━━━━━━━━━━━━━━━━\u001b[0m\u001b[37m\u001b[0m \u001b[1m0s\u001b[0m 293ms/step\n"
     ]
    }
   ],
   "source": [
    "import numpy as np\n",
    "from tensorflow.keras.preprocessing import image\n",
    "img_path = r'train\\Apple___Cedar_apple_rust\\0a41c25a-f9a6-4c34-8e5c-7f89a6ac4c40___FREC_C.Rust 9807_90deg.JPG'  # Change this to the path of your image\n",
    "img = image.load_img(img_path, target_size=(150, 150))\n",
    "img_array = image.img_to_array(img)\n",
    "img_array = np.expand_dims(img_array, axis=0)  \n",
    "\n",
    "img_array /= 255.0\n",
    "\n",
    "predictions = loaded_model.predict(img_array)\n",
    "\n",
    "predicted_class_index = np.argmax(predictions)\n"
   ]
  },
  {
   "cell_type": "code",
   "execution_count": 47,
   "metadata": {},
   "outputs": [
    {
     "data": {
      "text/plain": [
       "'Apple___Cedar_apple_rust'"
      ]
     },
     "execution_count": 47,
     "metadata": {},
     "output_type": "execute_result"
    }
   ],
   "source": [
    "list_of_classes[predicted_class_index]"
   ]
  },
  {
   "cell_type": "markdown",
   "metadata": {},
   "source": [
    "NOW THE SOLUTION OF THIS PREDICTION"
   ]
  },
  {
   "cell_type": "code",
   "execution_count": 51,
   "metadata": {},
   "outputs": [
    {
     "name": "stdout",
     "output_type": "stream",
     "text": [
      "{'diseases': {'Apple___Apple_scab': ['Treat with fungicides', 'Prune infected branches', 'Improve air circulation around trees'], 'Apple___Black_rot': ['Remove and destroy infected fruits', 'Apply fungicides', 'Prune to improve air circulation'], 'Apple___Cedar_apple_rust': ['Prune infected branches', 'Apply fungicides', 'Remove nearby cedar trees if possible'], 'Apple___healthy': ['No action needed, monitor for changes'], 'Blueberry___healthy': ['No action needed, monitor for changes'], 'Cherry_(including_sour)___healthy': ['No action needed, monitor for changes'], 'Cherry_(including_sour)___Powdery_mildew': ['Apply fungicides', 'Prune to improve air circulation', 'Remove and destroy infected leaves'], 'Corn_(maize)___Cercospora_leaf_spot Gray_leaf_spot': ['Rotate crops', 'Plant resistant varieties', 'Apply fungicides'], 'Corn_(maize)___Common_rust_': ['Rotate crops', 'Plant resistant varieties', 'Apply fungicides'], 'Corn_(maize)___healthy': ['No action needed, monitor for changes'], 'Corn_(maize)___Northern_Leaf_Blight': ['Rotate crops', 'Plant resistant varieties', 'Apply fungicides'], 'Grape___Black_rot': ['Remove and destroy infected fruits', 'Apply fungicides', 'Prune to improve air circulation'], 'Grape___Esca_(Black_Measles)': ['Prune infected branches', 'Apply fungicides', 'Avoid excessive pruning during wet periods'], 'Grape___healthy': ['No action needed, monitor for changes'], 'Grape___Leaf_blight_(Isariopsis_Leaf_Spot)': ['Apply fungicides', 'Prune to improve air circulation', 'Remove and destroy infected leaves'], 'Orange___Haunglongbing_(Citrus_greening)': ['Control psyllid vectors', 'Remove and destroy infected trees', 'Use disease-free planting material'], 'Peach___Bacterial_spot': ['Apply copper-based fungicides', 'Prune to increase airflow', 'Remove and destroy infected plant parts'], 'Peach___healthy': ['No action needed, monitor for changes'], 'Pepper,_bell___Bacterial_spot': ['Apply copper-based fungicides', 'Practice crop rotation', 'Remove and destroy infected plants'], 'Pepper,_bell___healthy': ['No action needed, monitor for changes'], 'Potato___Early_blight': ['Apply fungicides', 'Mulch to reduce soil splash', 'Rotate crops'], 'Potato___healthy': ['No action needed, monitor for changes'], 'Potato___Late_blight': ['Apply fungicides', 'Avoid overhead irrigation', 'Destroy infected plants'], 'Raspberry___healthy': ['No action needed, monitor for changes'], 'Soybean___healthy': ['No action needed, monitor for changes'], 'Squash___Powdery_mildew': ['Apply fungicides', 'Plant resistant varieties', 'Prune to improve air circulation'], 'Strawberry___healthy': ['No action needed, monitor for changes'], 'Strawberry___Leaf_scorch': ['Apply fungicides', 'Provide adequate water and nutrients', 'Remove and destroy infected leaves'], 'Tomato___Bacterial_spot': ['Apply copper-based fungicides', 'Practice crop rotation', 'Remove and destroy infected plants'], 'Tomato___Early_blight': ['Apply fungicides', 'Mulch to reduce soil splash', 'Prune to improve air circulation'], 'Tomato___healthy': ['No action needed, monitor for changes'], 'Tomato___Late_blight': ['Apply fungicides', 'Avoid overhead irrigation', 'Destroy infected plants'], 'Tomato___Leaf_Mold': ['Provide good air circulation', 'Avoid overhead irrigation', 'Remove and destroy infected leaves'], 'Tomato___Septoria_leaf_spot': ['Apply fungicides', 'Prune to improve air circulation', 'Remove and destroy infected leaves'], 'Tomato___Spider_mites Two-spotted_spider_mite': ['Use miticides', 'Prune to remove infested plant parts', 'Increase humidity to discourage mites'], 'Tomato___Target_Spot': ['Apply fungicides', 'Prune to improve air circulation', 'Remove and destroy infected leaves'], 'Tomato___Tomato_mosaic_virus': ['Remove and destroy infected plants', 'Control aphid vectors', 'Use disease-free seeds'], 'Tomato___Tomato_Yellow_Leaf_Curl_Virus': ['Use virus-resistant varieties', 'Control whitefly vectors', 'Remove and destroy infected plants']}}\n"
     ]
    }
   ],
   "source": [
    "with open(\"disease_mapping.json\", \"r\") as f:\n",
    "    disease_mapping = json.load(f)\n",
    "print(disease_mapping)"
   ]
  },
  {
   "cell_type": "code",
   "execution_count": 54,
   "metadata": {},
   "outputs": [],
   "source": [
    "predicted_class = list_of_classes[predicted_class_index]"
   ]
  },
  {
   "cell_type": "code",
   "execution_count": 57,
   "metadata": {},
   "outputs": [
    {
     "name": "stdout",
     "output_type": "stream",
     "text": [
      "These are the solutions for Apple___Cedar_apple_rust which you can use so that your crop remains free from any danger\n",
      "Point 1: Prune infected branches\n",
      "Point 2: Apply fungicides\n",
      "Point 3: Remove nearby cedar trees if possible\n"
     ]
    }
   ],
   "source": [
    "if predicted_class in disease_mapping[\"diseases\"]:\n",
    "    disease_solution = disease_mapping[\"diseases\"][predicted_class]\n",
    "    print(\"These are the solutions for\", predicted_class, \"which you can use so that your crop remains free from any danger\")\n",
    "    for idx, solution in enumerate(disease_solution, start=1):\n",
    "        print(\"Point {}: {}\".format(idx, solution))\n",
    "else:\n",
    "    print(\"No solution found for\", predicted_class)"
   ]
  }
 ],
 "metadata": {
  "kernelspec": {
   "display_name": "Python 3",
   "language": "python",
   "name": "python3"
  },
  "language_info": {
   "codemirror_mode": {
    "name": "ipython",
    "version": 3
   },
   "file_extension": ".py",
   "mimetype": "text/x-python",
   "name": "python",
   "nbconvert_exporter": "python",
   "pygments_lexer": "ipython3",
   "version": "3.11.5"
  }
 },
 "nbformat": 4,
 "nbformat_minor": 2
}
